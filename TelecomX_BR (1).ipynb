{
  "cells": [
    {
      "cell_type": "markdown",
      "metadata": {
        "id": "4foVEKhrlqcH"
      },
      "source": [
        "#📌 Extracão"
      ]
    },
    {
      "cell_type": "code",
      "execution_count": 1,
      "metadata": {
        "id": "1--uPM88l7JH"
      },
      "outputs": [],
      "source": [
        "import requests\n",
        "import pandas as pd\n"
      ]
    },
    {
      "cell_type": "code",
      "source": [
        "url = \"https://raw.githubusercontent.com/ingridcristh/challenge2-data-science/main/TelecomX_Data.json\"\n",
        "response = requests.get(url)\n",
        "data = response.json()\n"
      ],
      "metadata": {
        "id": "Dx5HdxHcg1Mq"
      },
      "execution_count": 2,
      "outputs": []
    },
    {
      "cell_type": "code",
      "source": [
        "df = pd.DataFrame(data)\n"
      ],
      "metadata": {
        "id": "5beZj3j2g3gi"
      },
      "execution_count": 3,
      "outputs": []
    },
    {
      "cell_type": "code",
      "source": [
        "print(df.shape)\n",
        "print(df.head())\n"
      ],
      "metadata": {
        "colab": {
          "base_uri": "https://localhost:8080/"
        },
        "id": "2QX6K0jig67K",
        "outputId": "24635bc7-f85d-4f9c-d2e2-70da730dcc64"
      },
      "execution_count": 4,
      "outputs": [
        {
          "output_type": "stream",
          "name": "stdout",
          "text": [
            "(7267, 6)\n",
            "   customerID Churn                                           customer  \\\n",
            "0  0002-ORFBO    No  {'gender': 'Female', 'SeniorCitizen': 0, 'Part...   \n",
            "1  0003-MKNFE    No  {'gender': 'Male', 'SeniorCitizen': 0, 'Partne...   \n",
            "2  0004-TLHLJ   Yes  {'gender': 'Male', 'SeniorCitizen': 0, 'Partne...   \n",
            "3  0011-IGKFF   Yes  {'gender': 'Male', 'SeniorCitizen': 1, 'Partne...   \n",
            "4  0013-EXCHZ   Yes  {'gender': 'Female', 'SeniorCitizen': 1, 'Part...   \n",
            "\n",
            "                                             phone  \\\n",
            "0   {'PhoneService': 'Yes', 'MultipleLines': 'No'}   \n",
            "1  {'PhoneService': 'Yes', 'MultipleLines': 'Yes'}   \n",
            "2   {'PhoneService': 'Yes', 'MultipleLines': 'No'}   \n",
            "3   {'PhoneService': 'Yes', 'MultipleLines': 'No'}   \n",
            "4   {'PhoneService': 'Yes', 'MultipleLines': 'No'}   \n",
            "\n",
            "                                            internet  \\\n",
            "0  {'InternetService': 'DSL', 'OnlineSecurity': '...   \n",
            "1  {'InternetService': 'DSL', 'OnlineSecurity': '...   \n",
            "2  {'InternetService': 'Fiber optic', 'OnlineSecu...   \n",
            "3  {'InternetService': 'Fiber optic', 'OnlineSecu...   \n",
            "4  {'InternetService': 'Fiber optic', 'OnlineSecu...   \n",
            "\n",
            "                                             account  \n",
            "0  {'Contract': 'One year', 'PaperlessBilling': '...  \n",
            "1  {'Contract': 'Month-to-month', 'PaperlessBilli...  \n",
            "2  {'Contract': 'Month-to-month', 'PaperlessBilli...  \n",
            "3  {'Contract': 'Month-to-month', 'PaperlessBilli...  \n",
            "4  {'Contract': 'Month-to-month', 'PaperlessBilli...  \n"
          ]
        }
      ]
    },
    {
      "cell_type": "markdown",
      "metadata": {
        "id": "1lSZP8zmmGZu"
      },
      "source": [
        "#🔧 Transformação"
      ]
    },
    {
      "cell_type": "code",
      "execution_count": 4,
      "metadata": {
        "id": "bsm-WTLjmHvt"
      },
      "outputs": [],
      "source": []
    },
    {
      "cell_type": "markdown",
      "metadata": {
        "id": "6XnTC2NTmMRL"
      },
      "source": [
        "#📊 Carga e análise"
      ]
    },
    {
      "cell_type": "code",
      "execution_count": 4,
      "metadata": {
        "id": "1jgUnLqTmPdd"
      },
      "outputs": [],
      "source": []
    },
    {
      "cell_type": "markdown",
      "metadata": {
        "id": "v-WzfSvTmaw9"
      },
      "source": [
        "#📄Relatorio Final"
      ]
    },
    {
      "cell_type": "code",
      "execution_count": 4,
      "metadata": {
        "id": "XMTac0YJmeK9"
      },
      "outputs": [],
      "source": []
    }
  ],
  "metadata": {
    "colab": {
      "provenance": []
    },
    "kernelspec": {
      "display_name": "Python 3",
      "name": "python3"
    },
    "language_info": {
      "name": "python"
    }
  },
  "nbformat": 4,
  "nbformat_minor": 0
}