{
  "cells": [
    {
      "cell_type": "markdown",
      "metadata": {
        "id": "4foVEKhrlqcH"
      },
      "source": [
        "#📌 Extracão"
      ]
    },
    {
      "cell_type": "code",
      "execution_count": 1,
      "metadata": {
        "id": "1--uPM88l7JH"
      },
      "outputs": [],
      "source": [
        "import requests\n",
        "import pandas as pd\n"
      ]
    },
    {
      "cell_type": "code",
      "source": [
        "url = \"https://raw.githubusercontent.com/ingridcristh/challenge2-data-science/main/TelecomX_Data.json\"\n",
        "response = requests.get(url)\n",
        "data = response.json()\n"
      ],
      "metadata": {
        "id": "Dx5HdxHcg1Mq"
      },
      "execution_count": 2,
      "outputs": []
    },
    {
      "cell_type": "code",
      "source": [
        "df = pd.DataFrame(data)\n"
      ],
      "metadata": {
        "id": "5beZj3j2g3gi"
      },
      "execution_count": 3,
      "outputs": []
    },
    {
      "cell_type": "code",
      "source": [
        "print(df.shape)\n",
        "print(df.head())\n"
      ],
      "metadata": {
        "colab": {
          "base_uri": "https://localhost:8080/"
        },
        "id": "2QX6K0jig67K",
        "outputId": "24635bc7-f85d-4f9c-d2e2-70da730dcc64"
      },
      "execution_count": 4,
      "outputs": [
        {
          "output_type": "stream",
          "name": "stdout",
          "text": [
            "(7267, 6)\n",
            "   customerID Churn                                           customer  \\\n",
            "0  0002-ORFBO    No  {'gender': 'Female', 'SeniorCitizen': 0, 'Part...   \n",
            "1  0003-MKNFE    No  {'gender': 'Male', 'SeniorCitizen': 0, 'Partne...   \n",
            "2  0004-TLHLJ   Yes  {'gender': 'Male', 'SeniorCitizen': 0, 'Partne...   \n",
            "3  0011-IGKFF   Yes  {'gender': 'Male', 'SeniorCitizen': 1, 'Partne...   \n",
            "4  0013-EXCHZ   Yes  {'gender': 'Female', 'SeniorCitizen': 1, 'Part...   \n",
            "\n",
            "                                             phone  \\\n",
            "0   {'PhoneService': 'Yes', 'MultipleLines': 'No'}   \n",
            "1  {'PhoneService': 'Yes', 'MultipleLines': 'Yes'}   \n",
            "2   {'PhoneService': 'Yes', 'MultipleLines': 'No'}   \n",
            "3   {'PhoneService': 'Yes', 'MultipleLines': 'No'}   \n",
            "4   {'PhoneService': 'Yes', 'MultipleLines': 'No'}   \n",
            "\n",
            "                                            internet  \\\n",
            "0  {'InternetService': 'DSL', 'OnlineSecurity': '...   \n",
            "1  {'InternetService': 'DSL', 'OnlineSecurity': '...   \n",
            "2  {'InternetService': 'Fiber optic', 'OnlineSecu...   \n",
            "3  {'InternetService': 'Fiber optic', 'OnlineSecu...   \n",
            "4  {'InternetService': 'Fiber optic', 'OnlineSecu...   \n",
            "\n",
            "                                             account  \n",
            "0  {'Contract': 'One year', 'PaperlessBilling': '...  \n",
            "1  {'Contract': 'Month-to-month', 'PaperlessBilli...  \n",
            "2  {'Contract': 'Month-to-month', 'PaperlessBilli...  \n",
            "3  {'Contract': 'Month-to-month', 'PaperlessBilli...  \n",
            "4  {'Contract': 'Month-to-month', 'PaperlessBilli...  \n"
          ]
        }
      ]
    },
    {
      "cell_type": "markdown",
      "metadata": {
        "id": "1lSZP8zmmGZu"
      },
      "source": [
        "#🔧 Transformação"
      ]
    },
    {
      "cell_type": "code",
      "execution_count": 5,
      "metadata": {
        "id": "bsm-WTLjmHvt",
        "colab": {
          "base_uri": "https://localhost:8080/"
        },
        "collapsed": true,
        "outputId": "cecaa337-59fa-43d1-8ea7-7c9725dfd4c4"
      },
      "outputs": [
        {
          "output_type": "stream",
          "name": "stdout",
          "text": [
            "<class 'pandas.core.frame.DataFrame'>\n",
            "RangeIndex: 7267 entries, 0 to 7266\n",
            "Data columns (total 6 columns):\n",
            " #   Column      Non-Null Count  Dtype \n",
            "---  ------      --------------  ----- \n",
            " 0   customerID  7267 non-null   object\n",
            " 1   Churn       7267 non-null   object\n",
            " 2   customer    7267 non-null   object\n",
            " 3   phone       7267 non-null   object\n",
            " 4   internet    7267 non-null   object\n",
            " 5   account     7267 non-null   object\n",
            "dtypes: object(6)\n",
            "memory usage: 340.8+ KB\n",
            "['customerID', 'Churn', 'customer', 'phone', 'internet', 'account']\n"
          ]
        }
      ],
      "source": [
        "# Verificar informações básicas\n",
        "df.info()\n",
        "\n",
        "# Visualizar as primeiras linhas para inspecionar a estrutura\n",
        "df.head()\n",
        "\n",
        "# Lista de colunas\n",
        "print(df.columns.tolist())\n",
        "\n",
        "\n"
      ]
    },
    {
      "cell_type": "code",
      "source": [
        "# URL do arquivo .md em modo RAW\n",
        "dict_url = \"https://raw.githubusercontent.com/ingridcristh/challenge2-data-science/main/TelecomX_dicionario.md\"\n",
        "\n",
        "# Requisição do conteúdo\n",
        "response = requests.get(dict_url)\n",
        "\n",
        "# Exibir o conteúdo do dicionário\n",
        "print(response.text)\n"
      ],
      "metadata": {
        "colab": {
          "base_uri": "https://localhost:8080/"
        },
        "collapsed": true,
        "id": "n9CPNXoUjlON",
        "outputId": "3d8c7a87-fff5-42b1-e52f-55e8f5638bff"
      },
      "execution_count": 14,
      "outputs": [
        {
          "output_type": "stream",
          "name": "stdout",
          "text": [
            "#### Dicionário de dados\n",
            "\n",
            "* `customerID`: número de identificação único de cada cliente\n",
            "* `Churn`: se o cliente deixou ou não a empresa \n",
            "* `gender`: gênero (masculino e feminino) \n",
            "* `SeniorCitizen`: informação sobre um cliente ter ou não idade igual ou maior que 65 anos \n",
            "* `Partner`:  se o cliente possui ou não um parceiro ou parceira\n",
            "* `Dependents`: se o cliente possui ou não dependentes\n",
            "* `tenure`:  meses de contrato do cliente\n",
            "* `PhoneService`: assinatura de serviço telefônico \n",
            "* `MultipleLines`: assisnatura de mais de uma linha de telefone \n",
            "* `InternetService`: assinatura de um provedor internet \n",
            "* `OnlineSecurity`: assinatura adicional de segurança online \n",
            "* `OnlineBackup`: assinatura adicional de backup online \n",
            "* `DeviceProtection`: assinatura adicional de proteção no dispositivo \n",
            "* `TechSupport`: assinatura adicional de suporte técnico, menos tempo de espera\n",
            "* `StreamingTV`: assinatura de TV a cabo \n",
            "* `StreamingMovies`: assinatura de streaming de filmes \n",
            "* `Contract`: tipo de contrato\n",
            "* `PaperlessBilling`: se o cliente prefere receber online a fatura\n",
            "* `PaymentMethod`: forma de pagamento\n",
            "* `Charges.Monthly`: total de todos os serviços do cliente por mês\n",
            "* `Charges.Total`: total gasto pelo cliente\n"
          ]
        }
      ]
    },
    {
      "cell_type": "code",
      "source": [
        "import pandas as pd\n",
        "import requests\n",
        "\n",
        "# 1. Carregar dados brutos da API (JSON no GitHub)\n",
        "url = \"https://raw.githubusercontent.com/ingridcristh/challenge2-data-science/main/TelecomX_Data.json\"\n",
        "data = requests.get(url).json()\n",
        "df = pd.DataFrame(data)\n",
        "\n",
        "# 2. Normalizar colunas aninhadas\n",
        "df_customer = pd.json_normalize(df['customer'])\n",
        "df_phone    = pd.json_normalize(df['phone'])\n",
        "df_internet = pd.json_normalize(df['internet'])\n",
        "df_account  = pd.json_normalize(df['account'])\n",
        "\n",
        "# 3. Concatenar tudo em um DataFrame único\n",
        "df_clean = pd.concat(\n",
        "    [df[['customerID', 'Churn']], df_customer, df_phone, df_internet, df_account],\n",
        "    axis=1\n",
        ")\n",
        "\n",
        "# 4. Corrigir valores vazios em Churn\n",
        "df_clean['Churn'] = df_clean['Churn'].replace('', 'Unknown')\n",
        "\n",
        "# 5. Padronizar nomes de colunas (substituir pontos por underline)\n",
        "df_clean.columns = df_clean.columns.str.replace('.', '_')\n",
        "\n",
        "# 6. Converter valores numéricos\n",
        "df_clean['Charges_Monthly'] = pd.to_numeric(df_clean['Charges_Monthly'], errors='coerce')\n",
        "df_clean['Charges_Total']   = pd.to_numeric(df_clean['Charges_Total'], errors='coerce')\n",
        "\n",
        "# 7. Verificar resultado\n",
        "print(df_clean.info())\n",
        "print(df_clean.head())\n"
      ],
      "metadata": {
        "colab": {
          "base_uri": "https://localhost:8080/"
        },
        "id": "oj3ITknBlOBr",
        "outputId": "b5554138-3983-4d8f-cd57-1b6282b521c3"
      },
      "execution_count": 16,
      "outputs": [
        {
          "output_type": "stream",
          "name": "stdout",
          "text": [
            "<class 'pandas.core.frame.DataFrame'>\n",
            "RangeIndex: 7267 entries, 0 to 7266\n",
            "Data columns (total 21 columns):\n",
            " #   Column            Non-Null Count  Dtype  \n",
            "---  ------            --------------  -----  \n",
            " 0   customerID        7267 non-null   object \n",
            " 1   Churn             7267 non-null   object \n",
            " 2   gender            7267 non-null   object \n",
            " 3   SeniorCitizen     7267 non-null   int64  \n",
            " 4   Partner           7267 non-null   object \n",
            " 5   Dependents        7267 non-null   object \n",
            " 6   tenure            7267 non-null   int64  \n",
            " 7   PhoneService      7267 non-null   object \n",
            " 8   MultipleLines     7267 non-null   object \n",
            " 9   InternetService   7267 non-null   object \n",
            " 10  OnlineSecurity    7267 non-null   object \n",
            " 11  OnlineBackup      7267 non-null   object \n",
            " 12  DeviceProtection  7267 non-null   object \n",
            " 13  TechSupport       7267 non-null   object \n",
            " 14  StreamingTV       7267 non-null   object \n",
            " 15  StreamingMovies   7267 non-null   object \n",
            " 16  Contract          7267 non-null   object \n",
            " 17  PaperlessBilling  7267 non-null   object \n",
            " 18  PaymentMethod     7267 non-null   object \n",
            " 19  Charges_Monthly   7267 non-null   float64\n",
            " 20  Charges_Total     7256 non-null   float64\n",
            "dtypes: float64(2), int64(2), object(17)\n",
            "memory usage: 1.2+ MB\n",
            "None\n",
            "   customerID Churn  gender  SeniorCitizen Partner Dependents  tenure  \\\n",
            "0  0002-ORFBO    No  Female              0     Yes        Yes       9   \n",
            "1  0003-MKNFE    No    Male              0      No         No       9   \n",
            "2  0004-TLHLJ   Yes    Male              0      No         No       4   \n",
            "3  0011-IGKFF   Yes    Male              1     Yes         No      13   \n",
            "4  0013-EXCHZ   Yes  Female              1     Yes         No       3   \n",
            "\n",
            "  PhoneService MultipleLines InternetService  ... OnlineBackup  \\\n",
            "0          Yes            No             DSL  ...          Yes   \n",
            "1          Yes           Yes             DSL  ...           No   \n",
            "2          Yes            No     Fiber optic  ...           No   \n",
            "3          Yes            No     Fiber optic  ...          Yes   \n",
            "4          Yes            No     Fiber optic  ...           No   \n",
            "\n",
            "  DeviceProtection TechSupport StreamingTV StreamingMovies        Contract  \\\n",
            "0               No         Yes         Yes              No        One year   \n",
            "1               No          No          No             Yes  Month-to-month   \n",
            "2              Yes          No          No              No  Month-to-month   \n",
            "3              Yes          No         Yes             Yes  Month-to-month   \n",
            "4               No         Yes         Yes              No  Month-to-month   \n",
            "\n",
            "  PaperlessBilling     PaymentMethod Charges_Monthly  Charges_Total  \n",
            "0              Yes      Mailed check            65.6         593.30  \n",
            "1               No      Mailed check            59.9         542.40  \n",
            "2              Yes  Electronic check            73.9         280.85  \n",
            "3              Yes  Electronic check            98.0        1237.85  \n",
            "4              Yes      Mailed check            83.9         267.40  \n",
            "\n",
            "[5 rows x 21 columns]\n"
          ]
        }
      ]
    },
    {
      "cell_type": "code",
      "source": [
        "# 1. Valores ausentes\n",
        "print(\"Valores ausentes por coluna:\\n\", df_clean.isnull().sum())\n",
        "\n",
        "# 2. Duplicatas no ID do cliente\n",
        "duplicados = df_clean[df_clean.duplicated(subset=\"customerID\", keep=False)]\n",
        "print(f\"\\nNúmero de duplicatas: {duplicados.shape[0]}\")\n",
        "\n",
        "# 3. Valores únicos de Churn\n",
        "print(\"\\nValores únicos de Churn:\", df_clean[\"Churn\"].unique())\n",
        "\n",
        "# 4. Tipos de dados\n",
        "print(\"\\nTipos de dados:\")\n",
        "print(df_clean.dtypes)\n",
        "\n",
        "# 5. Conferir valores categóricos com possíveis erros\n",
        "for col in df_clean.select_dtypes(include='object').columns:\n",
        "    print(f\"\\nColuna '{col}': {df_clean[col].unique()[:10]}\")  # Mostra até 10 valores únicos\n"
      ],
      "metadata": {
        "colab": {
          "base_uri": "https://localhost:8080/"
        },
        "id": "HXMSWRPWoI5O",
        "outputId": "067e638e-18fb-4d71-8e97-28b210cb1bb0"
      },
      "execution_count": 17,
      "outputs": [
        {
          "output_type": "stream",
          "name": "stdout",
          "text": [
            "Valores ausentes por coluna:\n",
            " customerID           0\n",
            "Churn                0\n",
            "gender               0\n",
            "SeniorCitizen        0\n",
            "Partner              0\n",
            "Dependents           0\n",
            "tenure               0\n",
            "PhoneService         0\n",
            "MultipleLines        0\n",
            "InternetService      0\n",
            "OnlineSecurity       0\n",
            "OnlineBackup         0\n",
            "DeviceProtection     0\n",
            "TechSupport          0\n",
            "StreamingTV          0\n",
            "StreamingMovies      0\n",
            "Contract             0\n",
            "PaperlessBilling     0\n",
            "PaymentMethod        0\n",
            "Charges_Monthly      0\n",
            "Charges_Total       11\n",
            "dtype: int64\n",
            "\n",
            "Número de duplicatas: 0\n",
            "\n",
            "Valores únicos de Churn: ['No' 'Yes' 'Unknown']\n",
            "\n",
            "Tipos de dados:\n",
            "customerID           object\n",
            "Churn                object\n",
            "gender               object\n",
            "SeniorCitizen         int64\n",
            "Partner              object\n",
            "Dependents           object\n",
            "tenure                int64\n",
            "PhoneService         object\n",
            "MultipleLines        object\n",
            "InternetService      object\n",
            "OnlineSecurity       object\n",
            "OnlineBackup         object\n",
            "DeviceProtection     object\n",
            "TechSupport          object\n",
            "StreamingTV          object\n",
            "StreamingMovies      object\n",
            "Contract             object\n",
            "PaperlessBilling     object\n",
            "PaymentMethod        object\n",
            "Charges_Monthly     float64\n",
            "Charges_Total       float64\n",
            "dtype: object\n",
            "\n",
            "Coluna 'customerID': ['0002-ORFBO' '0003-MKNFE' '0004-TLHLJ' '0011-IGKFF' '0013-EXCHZ'\n",
            " '0013-MHZWF' '0013-SMEOE' '0014-BMAQU' '0015-UOCOJ' '0016-QLJIS']\n",
            "\n",
            "Coluna 'Churn': ['No' 'Yes' 'Unknown']\n",
            "\n",
            "Coluna 'gender': ['Female' 'Male']\n",
            "\n",
            "Coluna 'Partner': ['Yes' 'No']\n",
            "\n",
            "Coluna 'Dependents': ['Yes' 'No']\n",
            "\n",
            "Coluna 'PhoneService': ['Yes' 'No']\n",
            "\n",
            "Coluna 'MultipleLines': ['No' 'Yes' 'No phone service']\n",
            "\n",
            "Coluna 'InternetService': ['DSL' 'Fiber optic' 'No']\n",
            "\n",
            "Coluna 'OnlineSecurity': ['No' 'Yes' 'No internet service']\n",
            "\n",
            "Coluna 'OnlineBackup': ['Yes' 'No' 'No internet service']\n",
            "\n",
            "Coluna 'DeviceProtection': ['No' 'Yes' 'No internet service']\n",
            "\n",
            "Coluna 'TechSupport': ['Yes' 'No' 'No internet service']\n",
            "\n",
            "Coluna 'StreamingTV': ['Yes' 'No' 'No internet service']\n",
            "\n",
            "Coluna 'StreamingMovies': ['No' 'Yes' 'No internet service']\n",
            "\n",
            "Coluna 'Contract': ['One year' 'Month-to-month' 'Two year']\n",
            "\n",
            "Coluna 'PaperlessBilling': ['Yes' 'No']\n",
            "\n",
            "Coluna 'PaymentMethod': ['Mailed check' 'Electronic check' 'Credit card (automatic)'\n",
            " 'Bank transfer (automatic)']\n"
          ]
        }
      ]
    },
    {
      "cell_type": "markdown",
      "metadata": {
        "id": "6XnTC2NTmMRL"
      },
      "source": [
        "#📊 Carga e análise"
      ]
    },
    {
      "cell_type": "code",
      "execution_count": 4,
      "metadata": {
        "id": "1jgUnLqTmPdd"
      },
      "outputs": [],
      "source": []
    },
    {
      "cell_type": "markdown",
      "metadata": {
        "id": "v-WzfSvTmaw9"
      },
      "source": [
        "#📄Relatorio Final"
      ]
    },
    {
      "cell_type": "code",
      "execution_count": 4,
      "metadata": {
        "id": "XMTac0YJmeK9"
      },
      "outputs": [],
      "source": []
    }
  ],
  "metadata": {
    "colab": {
      "provenance": []
    },
    "kernelspec": {
      "display_name": "Python 3",
      "name": "python3"
    },
    "language_info": {
      "name": "python"
    }
  },
  "nbformat": 4,
  "nbformat_minor": 0
}